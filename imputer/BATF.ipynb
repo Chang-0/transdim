{
 "cells": [
  {
   "cell_type": "markdown",
   "metadata": {},
   "source": [
    "# Bayesian Augmented Tensor Factorization\n",
    "\n",
    "**Published**: September 30, 2020\n",
    "\n",
    "**Author**: Yixian Chen [[**GitHub homepage**](https://github.com/yxnchen)], Xinyu Chen [[**GitHub homepage**](https://github.com/xinychen)]\n",
    "\n",
    "**Download**: This Jupyter notebook is at our GitHub repository. If you want to evaluate the code, please download the notebook from the [**transdim**](https://github.com/xinychen/transdim/blob/master/imputer/BATF.ipynb) repository.\n",
    "\n",
    "This notebook shows how to implement the Bayesian Augmented Tensor Factorization (BATF) model on some real-world data sets. In the following, we will discuss:\n",
    "\n",
    "- What the BATF is.\n",
    "\n",
    "- How to implement BATF mainly using Python `numpy` with high efficiency.\n",
    "\n",
    "- How to make imputation on some real-world spatiotemporal datasets.\n",
    "\n",
    "To overcome the problem of missing values within multivariate time series data, this model takes into account low-rank tensor structure by folding data along day dimension. For an in-depth discussion of BATF, please see [1].\n",
    "\n",
    "<div class=\"alert alert-block alert-info\">\n",
    "<font color=\"black\">\n",
    "<b>[1]</b> Xinyu Chen, Zhaocheng He, Yixian Chen, Yuhuan Lu, Jiawei Wang (2019). <b>Missing traffic data imputation and pattern discovery with a Bayesian augmented tensor factorization model</b>. Transportation Research Part C: Emerging Technologies, 104: 66-77. <a href=\"https://doi.org/10.1016/j.trc.2019.03.003\" title=\"PDF\"><b>[PDF]</b></a> \n",
    "</font>\n",
    "</div>"
   ]
  },
  {
   "cell_type": "markdown",
   "metadata": {},
   "source": [
    "We start by importing the necessary dependencies. We will make use of `numpy` and `scipy`."
   ]
  },
  {
   "cell_type": "code",
   "execution_count": 61,
   "metadata": {
    "ExecuteTime": {
     "end_time": "2020-11-07T08:39:32.103443Z",
     "start_time": "2020-11-07T08:39:32.069449Z"
    }
   },
   "outputs": [],
   "source": [
    "import numpy as np\n",
    "from scipy.linalg import khatri_rao as kr_prod\n",
    "from numpy.linalg import inv\n",
    "from numpy import cov"
   ]
  },
  {
   "cell_type": "markdown",
   "metadata": {},
   "source": [
    "### CP decomposition\n",
    "\n",
    "#### CP Combination (`cp_combine`)\n",
    "\n",
    "- **Definition**:\n",
    "\n",
    "The CP decomposition factorizes a tensor into a sum of outer products of vectors. For example, for a third-order tensor $\\mathcal{Y}\\in\\mathbb{R}^{m\\times n\\times f}$, the CP decomposition can be written as\n",
    "\n",
    "$$\\hat{\\mathcal{Y}}=\\sum_{s=1}^{r}\\boldsymbol{u}_{s}\\circ\\boldsymbol{v}_{s}\\circ\\boldsymbol{x}_{s},$$\n",
    "or element-wise,\n",
    "\n",
    "$$\\hat{y}_{ijt}=\\sum_{s=1}^{r}u_{is}v_{js}x_{ts},\\forall (i,j,t),$$\n",
    "where vectors $\\boldsymbol{u}_{s}\\in\\mathbb{R}^{m},\\boldsymbol{v}_{s}\\in\\mathbb{R}^{n},\\boldsymbol{x}_{s}\\in\\mathbb{R}^{f}$ are columns of factor matrices $U\\in\\mathbb{R}^{m\\times r},V\\in\\mathbb{R}^{n\\times r},X\\in\\mathbb{R}^{f\\times r}$, respectively. The symbol $\\circ$ denotes vector outer product.\n",
    "\n",
    "- **Example**:\n",
    "\n",
    "Given matrices $U=\\left[ \\begin{array}{cc} 1 & 2 \\\\ 3 & 4 \\\\ \\end{array} \\right]\\in\\mathbb{R}^{2\\times 2}$, $V=\\left[ \\begin{array}{cc} 1 & 2 \\\\ 3 & 4 \\\\ 5 & 6 \\\\ \\end{array} \\right]\\in\\mathbb{R}^{3\\times 2}$ and $X=\\left[ \\begin{array}{cc} 1 & 5 \\\\ 2 & 6 \\\\ 3 & 7 \\\\ 4 & 8 \\\\ \\end{array} \\right]\\in\\mathbb{R}^{4\\times 2}$, then if $\\hat{\\mathcal{Y}}=\\sum_{s=1}^{r}\\boldsymbol{u}_{s}\\circ\\boldsymbol{v}_{s}\\circ\\boldsymbol{x}_{s}$, then, we have\n",
    "\n",
    "$$\\hat{Y}_1=\\hat{\\mathcal{Y}}(:,:,1)=\\left[ \\begin{array}{ccc} 31 & 42 & 65 \\\\ 63 & 86 & 135 \\\\ \\end{array} \\right],$$\n",
    "$$\\hat{Y}_2=\\hat{\\mathcal{Y}}(:,:,2)=\\left[ \\begin{array}{ccc} 38 & 52 & 82 \\\\ 78 & 108 & 174 \\\\ \\end{array} \\right],$$\n",
    "$$\\hat{Y}_3=\\hat{\\mathcal{Y}}(:,:,3)=\\left[ \\begin{array}{ccc} 45 & 62 & 99 \\\\ 93 & 130 & 213 \\\\ \\end{array} \\right],$$\n",
    "$$\\hat{Y}_4=\\hat{\\mathcal{Y}}(:,:,4)=\\left[ \\begin{array}{ccc} 52 & 72 & 116 \\\\ 108 & 152 & 252 \\\\ \\end{array} \\right].$$"
   ]
  },
  {
   "cell_type": "code",
   "execution_count": 62,
   "metadata": {
    "ExecuteTime": {
     "end_time": "2020-11-07T08:39:37.788445Z",
     "start_time": "2020-11-07T08:39:37.772444Z"
    }
   },
   "outputs": [],
   "source": [
    "def cp_combine(var):\n",
    "    return np.einsum('is, js, ts -> ijt', var[0], var[1], var[2])"
   ]
  },
  {
   "cell_type": "code",
   "execution_count": 63,
   "metadata": {
    "ExecuteTime": {
     "end_time": "2020-11-07T08:39:38.494471Z",
     "start_time": "2020-11-07T08:39:38.478443Z"
    }
   },
   "outputs": [
    {
     "name": "stdout",
     "output_type": "stream",
     "text": [
      "[[[ 31  38  45  52]\n",
      "  [ 42  52  62  72]\n",
      "  [ 65  82  99 116]]\n",
      "\n",
      " [[ 63  78  93 108]\n",
      "  [ 86 108 130 152]\n",
      "  [135 174 213 252]]]\n",
      "\n",
      "tensor size:\n",
      "(2, 3, 4)\n"
     ]
    }
   ],
   "source": [
    "factor = [np.array([[1, 2], [3, 4]]), np.array([[1, 3], [2, 4], [5, 6]]), \n",
    "          np.array([[1, 5], [2, 6], [3, 7], [4, 8]])]\n",
    "print(cp_combine(factor))\n",
    "print()\n",
    "print('tensor size:')\n",
    "print(cp_combine(factor).shape)"
   ]
  },
  {
   "cell_type": "markdown",
   "metadata": {},
   "source": [
    "### Vector combination (`vec_combine`)"
   ]
  },
  {
   "cell_type": "code",
   "execution_count": 64,
   "metadata": {},
   "outputs": [],
   "source": [
    "## 1st solution\n",
    "def vec_combine(vector):\n",
    "    tensor = 0\n",
    "    d = len(vector)\n",
    "    for i in range(d):\n",
    "        ax = [len(vector[i]) if j == i else 1 for j in range(d)]\n",
    "        tensor = tensor + vector[i].reshape(ax, order = 'F')\n",
    "    return tensor\n",
    "\n",
    "## 2nd solution\n",
    "def vec_combine(vector):\n",
    "    return (vector[0][:, np.newaxis, np.newaxis] + vector[1][np.newaxis, :, np.newaxis]\n",
    "            + vector[2][np.newaxis, np.newaxis, :])"
   ]
  },
  {
   "cell_type": "code",
   "execution_count": 65,
   "metadata": {},
   "outputs": [
    {
     "name": "stdout",
     "output_type": "stream",
     "text": [
      "[array([1, 2]), array([1, 2, 3]), array([1, 2, 3, 4])]\n",
      "[[[3 4 5 6]\n",
      "  [4 5 6 7]\n",
      "  [5 6 7 8]]\n",
      "\n",
      " [[4 5 6 7]\n",
      "  [5 6 7 8]\n",
      "  [6 7 8 9]]]\n",
      "\n",
      "7\n",
      "7\n"
     ]
    }
   ],
   "source": [
    "vector = []\n",
    "for i in range(3):\n",
    "    vector.append(np.array([i + 1 for i in range(i + 2)]))\n",
    "print(vector)\n",
    "print(vec_combine(vector))\n",
    "print()\n",
    "print(vector[0][1] + vector[1][1] + vector[2][2])\n",
    "print(vec_combine(vector)[1, 1, 2])"
   ]
  },
  {
   "cell_type": "markdown",
   "metadata": {},
   "source": [
    "### Tensor Unfolding (`ten2mat`)\n",
    "\n",
    "Using numpy reshape to perform 3rd rank tensor unfold operation. [[**link**](https://stackoverflow.com/questions/49970141/using-numpy-reshape-to-perform-3rd-rank-tensor-unfold-operation)]"
   ]
  },
  {
   "cell_type": "code",
   "execution_count": 66,
   "metadata": {
    "ExecuteTime": {
     "end_time": "2020-11-07T08:39:40.600444Z",
     "start_time": "2020-11-07T08:39:40.592449Z"
    }
   },
   "outputs": [],
   "source": [
    "def ten2mat(tensor, mode):\n",
    "    return np.reshape(np.moveaxis(tensor, mode, 0), (tensor.shape[mode], -1), order = 'F')"
   ]
  },
  {
   "cell_type": "code",
   "execution_count": 67,
   "metadata": {
    "ExecuteTime": {
     "end_time": "2020-11-07T08:39:41.702444Z",
     "start_time": "2020-11-07T08:39:41.679444Z"
    }
   },
   "outputs": [
    {
     "name": "stdout",
     "output_type": "stream",
     "text": [
      "tensor size:\n",
      "(3, 2, 4)\n",
      "original tensor:\n",
      "[[[ 1  2  3  4]\n",
      "  [ 3  4  5  6]]\n",
      "\n",
      " [[ 5  6  7  8]\n",
      "  [ 7  8  9 10]]\n",
      "\n",
      " [[ 9 10 11 12]\n",
      "  [11 12 13 14]]]\n",
      "\n",
      "(1) mode-1 tensor unfolding:\n",
      "[[ 1  3  2  4  3  5  4  6]\n",
      " [ 5  7  6  8  7  9  8 10]\n",
      " [ 9 11 10 12 11 13 12 14]]\n",
      "\n",
      "(2) mode-2 tensor unfolding:\n",
      "[[ 1  5  9  2  6 10  3  7 11  4  8 12]\n",
      " [ 3  7 11  4  8 12  5  9 13  6 10 14]]\n",
      "\n",
      "(3) mode-3 tensor unfolding:\n",
      "[[ 1  5  9  3  7 11]\n",
      " [ 2  6 10  4  8 12]\n",
      " [ 3  7 11  5  9 13]\n",
      " [ 4  8 12  6 10 14]]\n"
     ]
    }
   ],
   "source": [
    "X = np.array([[[1, 2, 3, 4], [3, 4, 5, 6]], \n",
    "              [[5, 6, 7, 8], [7, 8, 9, 10]], \n",
    "              [[9, 10, 11, 12], [11, 12, 13, 14]]])\n",
    "print('tensor size:')\n",
    "print(X.shape)\n",
    "print('original tensor:')\n",
    "print(X)\n",
    "print()\n",
    "print('(1) mode-1 tensor unfolding:')\n",
    "print(ten2mat(X, 0))\n",
    "print()\n",
    "print('(2) mode-2 tensor unfolding:')\n",
    "print(ten2mat(X, 1))\n",
    "print()\n",
    "print('(3) mode-3 tensor unfolding:')\n",
    "print(ten2mat(X, 2))"
   ]
  },
  {
   "cell_type": "markdown",
   "metadata": {},
   "source": [
    "### Define Performance Metrics\n",
    "\n",
    "- **RMSE**\n",
    "- **MAPE**"
   ]
  },
  {
   "cell_type": "code",
   "execution_count": 68,
   "metadata": {
    "ExecuteTime": {
     "end_time": "2020-11-07T08:39:54.534443Z",
     "start_time": "2020-11-07T08:39:54.519443Z"
    }
   },
   "outputs": [],
   "source": [
    "def compute_mape(var, var_hat):\n",
    "    return np.sum(np.abs(var - var_hat) / var) / var.shape[0]\n",
    "\n",
    "def compute_rmse(var, var_hat):\n",
    "    return  np.sqrt(np.sum((var - var_hat) ** 2) / var.shape[0])"
   ]
  },
  {
   "cell_type": "markdown",
   "metadata": {},
   "source": [
    "### Define BATF with `Numpy`"
   ]
  },
  {
   "cell_type": "code",
   "execution_count": 80,
   "metadata": {},
   "outputs": [],
   "source": [
    "def update_global_mu(sparse_tensor, bias_tensor, factor_tensor, pos_obs, tau_eps, tau0):\n",
    "    tau_mu = tau_eps * len(pos_obs[0]) + tau0\n",
    "    Ez = sparse_tensor[pos_obs] - bias_tensor[pos_obs] - factor_tensor[pos_obs]\n",
    "    return 1 / tau_mu * tau_eps * np.sum(Ez)"
   ]
  },
  {
   "cell_type": "code",
   "execution_count": 85,
   "metadata": {},
   "outputs": [],
   "source": [
    "def update_bias_vector(sparse_tensor, mu_glb, factor_tensor, vector, ind, tau_eps, tau0, dim):\n",
    "    for k in range(len(dim)):\n",
    "        temp = vector.copy()\n",
    "        temp[k] = np.zeros((dim[k]))\n",
    "        bias_tensor = vec_combine(temp)\n",
    "        Ef = ind * (sparse_tensor - mu_glb - bias_tensor - factor_tensor)\n",
    "        tau_bias = np.sum(ten2mat(tau_eps * ind, k), axis = 1) + tau0\n",
    "        vector[k] = tau_eps / tau_bias * np.sum(ten2mat(Ef, k), axis = 1)\n",
    "    return vec_combine(vector)"
   ]
  },
  {
   "cell_type": "code",
   "execution_count": 94,
   "metadata": {},
   "outputs": [],
   "source": [
    "def update_factor(sparse_tensor, mu_glb, bias_tensor, factor, EUUT, ind, k, tau_eps, Sigma_U, beta0 = 1):\n",
    "    dim, rank = factor[k].shape\n",
    "    dim = factor[k].shape[0]\n",
    "    factor_bar = np.mean(factor[k], axis = 0)\n",
    "    temp = dim / (dim + beta0)\n",
    "    var_mu_hyper = temp * factor_bar\n",
    "    var_W_hyper = inv(np.eye(rank) + (dim - 1) * cov(factor[k], rowvar = False) \n",
    "                      + temp * beta0 * np.outer(factor_bar, factor_bar))\n",
    "    var_Lambda_hyper = (dim + rank) * var_W_hyper\n",
    "    \n",
    "    idx = list(filter(lambda x: x != k, range(len(factor))))\n",
    "    var1 = kr_prod(EUUT[idx[1]], EUUT[idx[0]]).T\n",
    "    var2 = kr_prod(factor[idx[1]], factor[idx[0]]).T\n",
    "    var3 = (var1 @ ten2mat(tau_eps * ind, k).T).reshape([rank, rank, dim]) + var_Lambda_hyper[:, :, np.newaxis]\n",
    "    Ew = ten2mat(ind * (sparse_tensor - mu_glb - bias_tensor), k).T\n",
    "    var4 = tau_eps * var2 @ Ew + (var_Lambda_hyper @ var_mu_hyper)[:, np.newaxis]\n",
    "    for i in range(dim):\n",
    "        Sigma_U[k][:, :, i] = inv(var3[:, :, i])\n",
    "        factor[k][i, :] = inv(var3[:, :, i]) @ var4[:, i]\n",
    "    EUUT[k] = (Sigma_U[k].reshape(rank * rank, dim, order = 'F') + kr_prod(factor[k].T, factor[k].T)).T\n",
    "    \n",
    "    return factor[k], EUUT[k]"
   ]
  },
  {
   "cell_type": "code",
   "execution_count": 92,
   "metadata": {
    "ExecuteTime": {
     "end_time": "2020-11-07T08:39:58.011446Z",
     "start_time": "2020-11-07T08:39:57.965449Z"
    }
   },
   "outputs": [],
   "source": [
    "def BATF_VB(dense_tensor, sparse_tensor, vector, factor, max_iter):\n",
    "    \"\"\"Bayesian Augmented Tensor Factorization (BATF) with variational Bayes.\"\"\"\n",
    "\n",
    "    dim = np.array(sparse_tensor.shape)\n",
    "    rank = factor[0].shape[1]\n",
    "    if np.isnan(sparse_tensor).any() == False:\n",
    "        ind = sparse_tensor != 0\n",
    "        pos_obs = np.where(ind)\n",
    "        pos_test = np.where((dense_tensor != 0) & (sparse_tensor == 0))\n",
    "    elif np.isnan(sparse_tensor).any() == True:\n",
    "        pos_test = np.where((dense_tensor != 0) & (np.isnan(sparse_tensor)))\n",
    "        ind = ~np.isnan(sparse_tensor)\n",
    "        pos_obs = np.where(ind)\n",
    "        sparse_tensor[np.isnan(sparse_tensor)] = 0\n",
    "    num_obs = len(pos_obs[0])\n",
    "\n",
    "    tau_eps = 1\n",
    "    tau0 = 1\n",
    "    alpha = 1e-6\n",
    "    beta = 1e-6\n",
    "\n",
    "    # init variables\n",
    "    mu_glb = 0\n",
    "    Sigma_U = []\n",
    "    EUUT = []\n",
    "    for k in range(len(dim)):\n",
    "        Sigma_U.append(np.tile(np.eye(rank), (1,dim[k])).reshape(rank, rank, dim[k], order='F'))\n",
    "        EUUT.append(Sigma_U[k].reshape(rank * rank, dim[k], order='F').T)\n",
    "    bias_tensor = vec_combine(vector)\n",
    "    factor_tensor = cp_combine(factor)\n",
    "\n",
    "    for it in range(max_iter):\n",
    "        mu_glb = update_global_mu(sparse_tensor, bias_tensor, factor_tensor, pos_obs, tau_eps, tau0)\n",
    "        bias_tensor = update_bias_vector(sparse_tensor, mu_glb, factor_tensor, vector, ind, tau_eps, tau0, dim)\n",
    "        for k in range(len(dim)):\n",
    "            factor[k], EUUT[k] = update_factor(sparse_tensor, mu_glb, bias_tensor, factor, EUUT, \n",
    "                                               ind, k, tau_eps, Sigma_U)\n",
    "        factor_tensor = cp_combine(factor)\n",
    "        tensor_hat = mu_glb + bias_tensor + factor_tensor\n",
    "        if (it + 1) % 5 == 0:\n",
    "            print('Iter: {}'.format(it + 1))\n",
    "            print('MAPE: {:.6}'.format(compute_mape(dense_tensor[pos_test], tensor_hat[pos_test])))\n",
    "            print('RMSE: {:.6}'.format(compute_rmse(dense_tensor[pos_test], tensor_hat[pos_test])))\n",
    "            print()\n",
    "\n",
    "        # update precision tau_eps\n",
    "        Emuglb2 = num_obs * mu_glb ** 2\n",
    "        Ebias2 = bias_tensor[pos_obs] @ bias_tensor[pos_obs]\n",
    "        Efactor2 = 0\n",
    "        temp0 = []\n",
    "        for j in range(rank):\n",
    "            for k in range(len(dim)):\n",
    "                temp0.append(EUUT[k][:, j * rank : (j + 1) * rank])\n",
    "            Efactor2 = Efactor2 + np.sum(binary_tensor.flatten('F') @ khatri_rao(khatri_rao(temp0[2], temp0[1]), temp0[0]))\n",
    "        Ecomb = (np.sum(mu_glb * bias_tensor[pos_obs]) + np.sum(mu_glb * factor_tensor[pos_obs])\n",
    "                 + bias_tensor[pos_obs] @ factor_tensor[pos_obs])\n",
    "        EYstar2 = Emuglb2 + Ebias2 + Efactor2 + 2 * Ecomb\n",
    "        Eerr = sparse_tensor.flatten('F') @ sparse_tensor.flatten('F') - \\\n",
    "               2 * sparse_tensor.flatten('F') @ tensor_hat.flatten('F') + EYstar2\n",
    "        tau_eps = (alpha + 0.5 * num_obs) / (beta + 0.5 * Eerr)\n",
    "\n",
    "        # evaluate lower bound\n",
    "        # ...\n",
    "\n",
    "    print('Final results:')\n",
    "    print('Imputation MAPE: {:.6}'.format(compute_mape(dense_tensor[pos_test], tensor_hat[pos_test])))\n",
    "    print('Imputation RMSE: {:.6}'.format(compute_rmse(dense_tensor[pos_test], tensor_hat[pos_test])))\n",
    "    print()\n",
    "\n",
    "    return tensor_hat, mu_glb, vector, factor"
   ]
  },
  {
   "cell_type": "markdown",
   "metadata": {},
   "source": [
    "## Data Organization\n",
    "\n",
    "### 1) Matrix Structure\n",
    "\n",
    "We consider a dataset of $m$ discrete time series $\\boldsymbol{y}_{i}\\in\\mathbb{R}^{f},i\\in\\left\\{1,2,...,m\\right\\}$. The time series may have missing elements. We express spatio-temporal dataset as a matrix $Y\\in\\mathbb{R}^{m\\times f}$ with $m$ rows (e.g., locations) and $f$ columns (e.g., discrete time intervals),\n",
    "\n",
    "$$Y=\\left[ \\begin{array}{cccc} y_{11} & y_{12} & \\cdots & y_{1f} \\\\ y_{21} & y_{22} & \\cdots & y_{2f} \\\\ \\vdots & \\vdots & \\ddots & \\vdots \\\\ y_{m1} & y_{m2} & \\cdots & y_{mf} \\\\ \\end{array} \\right]\\in\\mathbb{R}^{m\\times f}.$$\n",
    "\n",
    "### 2) Tensor Structure\n",
    "\n",
    "We consider a dataset of $m$ discrete time series $\\boldsymbol{y}_{i}\\in\\mathbb{R}^{nf},i\\in\\left\\{1,2,...,m\\right\\}$. The time series may have missing elements. We partition each time series into intervals of predifined length $f$. We express each partitioned time series as a matrix $Y_{i}$ with $n$ rows (e.g., days) and $f$ columns (e.g., discrete time intervals per day),\n",
    "\n",
    "$$Y_{i}=\\left[ \\begin{array}{cccc} y_{11} & y_{12} & \\cdots & y_{1f} \\\\ y_{21} & y_{22} & \\cdots & y_{2f} \\\\ \\vdots & \\vdots & \\ddots & \\vdots \\\\ y_{n1} & y_{n2} & \\cdots & y_{nf} \\\\ \\end{array} \\right]\\in\\mathbb{R}^{n\\times f},i=1,2,...,m,$$\n",
    "\n",
    "therefore, the resulting structure is a tensor $\\mathcal{Y}\\in\\mathbb{R}^{m\\times n\\times f}$."
   ]
  },
  {
   "cell_type": "code",
   "execution_count": 75,
   "metadata": {},
   "outputs": [],
   "source": [
    "import scipy.io\n",
    "\n",
    "tensor = scipy.io.loadmat('../datasets/Guangzhou-data-set/tensor.mat')\n",
    "dense_tensor = tensor['tensor']\n",
    "random_matrix = scipy.io.loadmat('../datasets/Guangzhou-data-set/random_matrix.mat')\n",
    "random_matrix = random_matrix['random_matrix']\n",
    "random_tensor = scipy.io.loadmat('../datasets/Guangzhou-data-set/random_tensor.mat')\n",
    "random_tensor = random_tensor['random_tensor']\n",
    "\n",
    "missing_rate = 0.4\n",
    "\n",
    "# =============================================================================\n",
    "### Random missing (RM) scenario:\n",
    "binary_tensor = np.round(random_tensor + 0.5 - missing_rate)\n",
    "# =============================================================================\n",
    "\n",
    "# =============================================================================\n",
    "### Non-random missing (NM) scenario:\n",
    "binary_tensor = np.zeros(dense_tensor.shape)\n",
    "for i1 in range(dense_tensor.shape[0]):\n",
    "    for i2 in range(dense_tensor.shape[1]):\n",
    "        binary_tensor[i1, i2, :] = np.round(random_matrix[i1, i2] + 0.5 - missing_rate)\n",
    "# =============================================================================\n",
    "\n",
    "sparse_tensor = np.multiply(dense_tensor, binary_tensor)"
   ]
  },
  {
   "cell_type": "code",
   "execution_count": 93,
   "metadata": {
    "scrolled": true
   },
   "outputs": [
    {
     "name": "stdout",
     "output_type": "stream",
     "text": [
      "Iter: 5\n",
      "MAPE: 0.10423\n",
      "RMSE: 4.38207\n",
      "\n",
      "Iter: 10\n",
      "MAPE: 0.102899\n",
      "RMSE: 4.34359\n",
      "\n",
      "Iter: 15\n",
      "MAPE: 0.102486\n",
      "RMSE: 4.32888\n",
      "\n",
      "Iter: 20\n",
      "MAPE: 0.102267\n",
      "RMSE: 4.31988\n",
      "\n",
      "Iter: 25\n",
      "MAPE: 0.102138\n",
      "RMSE: 4.3141\n",
      "\n",
      "Iter: 30\n",
      "MAPE: 0.102033\n",
      "RMSE: 4.31037\n",
      "\n",
      "Iter: 35\n",
      "MAPE: 0.101902\n",
      "RMSE: 4.30752\n",
      "\n",
      "Iter: 40\n",
      "MAPE: 0.101776\n",
      "RMSE: 4.3054\n",
      "\n",
      "Iter: 45\n",
      "MAPE: 0.101688\n",
      "RMSE: 4.30406\n",
      "\n",
      "Iter: 50\n",
      "MAPE: 0.101645\n",
      "RMSE: 4.30351\n",
      "\n",
      "Iter: 55\n",
      "MAPE: 0.101647\n",
      "RMSE: 4.3038\n",
      "\n",
      "Iter: 60\n",
      "MAPE: 0.101685\n",
      "RMSE: 4.3047\n",
      "\n",
      "Iter: 65\n",
      "MAPE: 0.101726\n",
      "RMSE: 4.30553\n",
      "\n",
      "Iter: 70\n",
      "MAPE: 0.101751\n",
      "RMSE: 4.30595\n",
      "\n",
      "Iter: 75\n",
      "MAPE: 0.101765\n",
      "RMSE: 4.30603\n",
      "\n",
      "Iter: 80\n",
      "MAPE: 0.101774\n",
      "RMSE: 4.30595\n",
      "\n",
      "Iter: 85\n",
      "MAPE: 0.101782\n",
      "RMSE: 4.30582\n",
      "\n",
      "Iter: 90\n",
      "MAPE: 0.101791\n",
      "RMSE: 4.30572\n",
      "\n",
      "Iter: 95\n",
      "MAPE: 0.101803\n",
      "RMSE: 4.30569\n",
      "\n",
      "Iter: 100\n",
      "MAPE: 0.101818\n",
      "RMSE: 4.30575\n",
      "\n",
      "Final results:\n",
      "Imputation MAPE: 0.101818\n",
      "Imputation RMSE: 4.30575\n",
      "\n",
      "Running time: 161 seconds\n"
     ]
    }
   ],
   "source": [
    "import time\n",
    "start = time.time()\n",
    "dim = np.array(sparse_tensor.shape)\n",
    "rank = 10\n",
    "vector = []\n",
    "factor = []\n",
    "for k in range(len(dim)):\n",
    "    vector.append(5.0 * np.random.randn(dim[k],))\n",
    "    factor.append(1.5 * np.random.randn(dim[k], rank))\n",
    "max_iter = 100\n",
    "BATF_VB(dense_tensor, sparse_tensor, vector, factor, max_iter)\n",
    "end = time.time()\n",
    "print('Running time: %d seconds'%(end - start))"
   ]
  },
  {
   "cell_type": "code",
   "execution_count": null,
   "metadata": {},
   "outputs": [],
   "source": [
    "a = np.random.rand(3, 4, 5)\n",
    "b = a.flatten()\n",
    "c = a.flatten('F')\n",
    "print(np.sum(np.abs(b - c)))"
   ]
  },
  {
   "cell_type": "markdown",
   "metadata": {},
   "source": [
    "## Evaluation on London Movement Speed Data"
   ]
  },
  {
   "cell_type": "code",
   "execution_count": null,
   "metadata": {},
   "outputs": [],
   "source": [
    "import numpy as np\n",
    "np.random.seed(1000)\n",
    "\n",
    "mask_rate = 0.20\n",
    "\n",
    "dense_mat = np.load('../datasets/London-data-set/hourly_speed_mat.npy')\n",
    "pos_obs = np.where(dense_mat != 0)\n",
    "num = len(pos_obs[0])\n",
    "sample_ind = np.random.choice(num, size = int(mask_rate * num), replace = False)\n",
    "sparse_mat = dense_mat.copy()\n",
    "sparse_mat[pos_obs[0][sample_ind], pos_obs[1][sample_ind]] = 0\n",
    "\n",
    "dense_tensor = dense_mat.reshape([dense_mat.shape[0], 30, 24])\n",
    "sparse_tensor = sparse_mat.reshape([sparse_mat.shape[0], 30, 24])\n",
    "del dense_mat, sparse_mat"
   ]
  },
  {
   "cell_type": "markdown",
   "metadata": {},
   "source": [
    "**Question**: Given only the partially observed data $\\mathcal{Y}\\in\\mathbb{R}^{m\\times n\\times f}$, how can we impute the unknown missing values?\n",
    "\n",
    "The main influential factors for such imputation model are:\n",
    "\n",
    "- `rank`.\n",
    "\n",
    "- `burn_iter`.\n",
    "\n",
    "- `gibbs_iter`."
   ]
  },
  {
   "cell_type": "code",
   "execution_count": null,
   "metadata": {
    "scrolled": true
   },
   "outputs": [],
   "source": [
    "import time\n",
    "start = time.time()\n",
    "dim = np.array(sparse_tensor.shape)\n",
    "rank = 10\n",
    "factor = []\n",
    "for k in range(len(dim)):\n",
    "    factor.append(0.1 * np.random.rand(dim[k], rank))\n",
    "burn_iter = 100\n",
    "gibbs_iter = 50\n",
    "BGCP(dense_tensor, sparse_tensor, factor, burn_iter, gibbs_iter)\n",
    "end = time.time()\n",
    "print('Running time: %d seconds'%(end - start))"
   ]
  },
  {
   "cell_type": "code",
   "execution_count": 95,
   "metadata": {
    "ExecuteTime": {
     "end_time": "2020-11-07T08:40:05.797444Z",
     "start_time": "2020-11-07T08:40:05.430446Z"
    }
   },
   "outputs": [],
   "source": [
    "# guangzhou speed data\n",
    "import scipy.io\n",
    "\n",
    "tensor = scipy.io.loadmat('../datasets/Guangzhou-data-set/tensor.mat')\n",
    "dense_tensor = tensor['tensor']\n",
    "random_matrix = scipy.io.loadmat('../datasets/Guangzhou-data-set/random_matrix.mat')\n",
    "random_matrix = random_matrix['random_matrix']\n",
    "random_tensor = scipy.io.loadmat('../datasets/Guangzhou-data-set/random_tensor.mat')\n",
    "random_tensor = random_tensor['random_tensor']\n",
    "\n",
    "missing_rate = 0.3\n",
    "\n",
    "# =============================================================================\n",
    "### Random missing (RM) scenario:\n",
    "binary_tensor = np.round(random_tensor + 0.5 - missing_rate)\n",
    "# =============================================================================\n",
    "\n",
    "# =============================================================================\n",
    "### Non-random missing (NM) scenario:\n",
    "# binary_tensor = np.zeros(dense_tensor.shape)\n",
    "# for i1 in range(dense_tensor.shape[0]):\n",
    "#     for i2 in range(dense_tensor.shape[1]):\n",
    "#         binary_tensor[i1, i2, :] = np.round(random_matrix[i1, i2] + 0.5 - missing_rate)\n",
    "# =============================================================================\n",
    "\n",
    "sparse_tensor = np.multiply(dense_tensor, binary_tensor)"
   ]
  },
  {
   "cell_type": "code",
   "execution_count": null,
   "metadata": {
    "ExecuteTime": {
     "end_time": "2020-11-07T08:40:29.933980Z",
     "start_time": "2020-11-07T08:40:06.936444Z"
    }
   },
   "outputs": [
    {
     "name": "stdout",
     "output_type": "stream",
     "text": [
      "Iter: 5\n",
      "MAPE: 0.0878859\n",
      "RMSE: 3.76203\n",
      "\n",
      "Iter: 10\n",
      "MAPE: 0.0861377\n",
      "RMSE: 3.69592\n",
      "\n",
      "Iter: 15\n",
      "MAPE: 0.0854057\n",
      "RMSE: 3.67054\n",
      "\n"
     ]
    }
   ],
   "source": [
    "import time\n",
    "start = time.time()\n",
    "dim = np.array(sparse_tensor.shape)\n",
    "rank = 80\n",
    "vector = []\n",
    "factor = []\n",
    "for k in range(len(dim)):\n",
    "    vector.append(5.0 * np.random.randn(dim[k],))\n",
    "    factor.append(1.5 * np.random.randn(dim[k], rank))\n",
    "max_iter = 100\n",
    "BATF_VB(dense_tensor, sparse_tensor, vector, factor, max_iter)\n",
    "end = time.time()\n",
    "print('Running time: %d seconds'%(end - start))"
   ]
  },
  {
   "cell_type": "markdown",
   "metadata": {},
   "source": [
    "### License\n",
    "\n",
    "<div class=\"alert alert-block alert-danger\">\n",
    "<b>This work is released under the MIT license.</b>\n",
    "</div>"
   ]
  }
 ],
 "metadata": {
  "kernelspec": {
   "display_name": "Python 3",
   "language": "python",
   "name": "python3"
  },
  "language_info": {
   "codemirror_mode": {
    "name": "ipython",
    "version": 3
   },
   "file_extension": ".py",
   "mimetype": "text/x-python",
   "name": "python",
   "nbconvert_exporter": "python",
   "pygments_lexer": "ipython3",
   "version": "3.8.3"
  },
  "toc": {
   "base_numbering": 1,
   "nav_menu": {},
   "number_sections": true,
   "sideBar": true,
   "skip_h1_title": false,
   "title_cell": "Table of Contents",
   "title_sidebar": "Contents",
   "toc_cell": false,
   "toc_position": {},
   "toc_section_display": true,
   "toc_window_display": false
  }
 },
 "nbformat": 4,
 "nbformat_minor": 4
}
